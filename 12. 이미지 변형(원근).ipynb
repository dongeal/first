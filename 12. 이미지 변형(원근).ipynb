{
 "cells": [
  {
   "cell_type": "markdown",
   "id": "80bb13ec",
   "metadata": {},
   "source": [
    "# 12. 이미지변형(원근)"
   ]
  },
  {
   "cell_type": "markdown",
   "id": "20017e8e",
   "metadata": {},
   "source": [
    "사다리꼴이미지 변형"
   ]
  },
  {
   "cell_type": "code",
   "execution_count": 6,
   "id": "3b5a77c2",
   "metadata": {},
   "outputs": [],
   "source": [
    "import cv2\n",
    "import numpy as np\n",
    "\n",
    "img=cv2.imread('newspaper.jpg')\n",
    "\n",
    "width, height= 640,240 \n",
    "\n",
    "src=np.array([[512,356],[1015,347],[1110,568],[465,565]],dtype=np.float32) \n",
    "dst=np.array([[0,0],[width,0],[width,height],[0,height]], dtype=np.float32)\n",
    "#좌상, 우상, 우하, 좌하\n",
    "\n",
    "matrix=cv2.getPerspectiveTransform(src,dst) # matrix 얻어옴\n",
    "result= cv2.warpPerspective(img,matrix,(width,height)) # matrix대로 변환\n",
    "\n",
    "cv2.imshow('img',img)\n",
    "cv2.imshow('result',result)\n",
    "cv2.waitKey(0)\n",
    "cv2.destroyAllWindows()"
   ]
  },
  {
   "cell_type": "markdown",
   "id": "4e46fb31",
   "metadata": {},
   "source": [
    "회전된 이미지 변형"
   ]
  },
  {
   "cell_type": "code",
   "execution_count": 7,
   "id": "97ec4fc5",
   "metadata": {},
   "outputs": [],
   "source": [
    "import cv2\n",
    "import numpy as np\n",
    "\n",
    "img=cv2.imread('poker.jpg')\n",
    "\n",
    "width, height= 530,710\n",
    "\n",
    "src=np.array([[704,139],[1132,418],[724,1001],[279,691]],dtype=np.float32) \n",
    "dst=np.array([[0,0],[width,0],[width,height],[0,height]], dtype=np.float32)\n",
    "#좌상, 우상, 우하, 좌하\n",
    "\n",
    "matrix=cv2.getPerspectiveTransform(src,dst) # matrix 얻어옴\n",
    "result= cv2.warpPerspective(img,matrix,(width,height)) # matrix대로 변환\n",
    "\n",
    "cv2.imshow('img',img)\n",
    "cv2.imshow('result',result)\n",
    "cv2.waitKey(0)\n",
    "cv2.destroyAllWindows()"
   ]
  },
  {
   "cell_type": "markdown",
   "id": "702affec",
   "metadata": {},
   "source": [
    "## 미니 프로젝트: 반자동 문서 스캐너"
   ]
  },
  {
   "cell_type": "markdown",
   "id": "6354a02a",
   "metadata": {},
   "source": [
    "### 마우스 이벤트 등록"
   ]
  },
  {
   "cell_type": "code",
   "execution_count": 1,
   "id": "ea8e57a0",
   "metadata": {},
   "outputs": [
    {
     "name": "stdout",
     "output_type": "stream",
     "text": [
      "left button 다운\n",
      "778 982\n",
      "left button 업\n",
      "778 982\n"
     ]
    }
   ],
   "source": [
    "import cv2\n",
    "\n",
    "def mouse_handler(event,x,y,flags,param):\n",
    "    if event==cv2.EVENT_LBUTTONDOWN:\n",
    "        print('left button 다운')\n",
    "        print(x,y)\n",
    "    elif event==cv2.EVENT_LBUTTONUP:\n",
    "        print('left button 업')\n",
    "        print(x,y)\n",
    "    elif event== cv2.EVENT_LBUTTONDBLCLK:\n",
    "        print('mouse double click')\n",
    "    elif event== cv2.EVENT_RBUTTONDOWN:\n",
    "        print('right button down')\n",
    "        \n",
    "        \n",
    "        \n",
    "img= cv2.imread('poker.jpg')\n",
    "cv2.namedWindow('img') \n",
    "# img란이름으 윈도를 먼저 만들어 여깅 마우스 이벤트를 처리하기위한 핻들러 적용\n",
    "cv2.setMouseCallback('img',mouse_handler)\n",
    "\n",
    "\n",
    "cv2.imshow('img',img)\n",
    "\n",
    "cv2.waitKey(0)\n",
    "cv2.destroyAllWindows()"
   ]
  },
  {
   "cell_type": "markdown",
   "id": "19181359",
   "metadata": {},
   "source": [
    "## 프로젝트"
   ]
  },
  {
   "cell_type": "code",
<<<<<<< HEAD
   "execution_count": 1,
=======
   "execution_count": 4,
>>>>>>> 5edd294c293f87f5e16a98d6399ac91fb17eb9f9
   "id": "c6d6922d",
   "metadata": {},
   "outputs": [],
   "source": [
    "import cv2\n",
    "import numpy as np\n",
    "\n",
    "point_list=[]\n",
    "src_img= cv2.imread('poker.jpg')\n",
    "\n",
    "COLOR=(255,0,255)\n",
    "THICKNESS =3\n",
    "drawing= False # 선을 그을지 여부\n",
    "def mouse_handler(event,x,y,flags,param):\n",
    "    global drawing\n",
    "    dst_img = src_img.copy()\n",
    "    if event==cv2.EVENT_LBUTTONDOWN:\n",
    "        drawing= True  # 선그리기 시작\n",
    "        point_list.append((x,y))\n",
    "    \n",
    "    if drawing:\n",
    "        prev_point=None # 직선의 시작점\n",
    "        for point in point_list:\n",
    "            cv2.circle(dst_img, point, 10, COLOR,cv2.FILLED)\n",
    "            if prev_point :\n",
    "                cv2.line(dst_img,prev_point,point, COLOR, THICKNESS,cv2.LINE_AA)\n",
    "            prev_point=point  #prev_point 업데이트\n",
    "        \n",
    "        next_point=(x,y)\n",
    "        if len(point_list)==4:\n",
    "            show_result() # 결과 출력 함수  \n",
    "            next_point=point_list[0] #첫번째 클릭한 점\n",
    "        \n",
    "        \n",
    "        cv2.line(dst_img,prev_point,next_point, COLOR, THICKNESS,cv2.LINE_AA)        \n",
    "\n",
    "\n",
    "\n",
    "    cv2.imshow('img',dst_img)\n",
    "\n",
    "def show_result():\n",
    "    width, height= 530,710\n",
    "\n",
    "    src=np.float32(point_list)\n",
    "    dst=np.array([[0,0],[width,0],[width,height],[0,height]], dtype=np.float32)\n",
    "    #좌상, 우상, 우하, 좌하\n",
    "\n",
    "    matrix=cv2.getPerspectiveTransform(src,dst) # matrix 얻어옴\n",
    "    result= cv2.warpPerspective(src_img,matrix,(width,height)) # matrix대로 변환    \n",
    "    cv2.imshow('result',result)\n",
    "\n",
    "cv2.namedWindow('img')  \n",
    "cv2.setMouseCallback('img',mouse_handler)\n",
    "cv2.imshow('img',src_img)\n",
    "cv2.waitKey(0)\n",
    "cv2.destroyAllWindows()"
   ]
  },
  {
   "cell_type": "code",
   "execution_count": null,
   "id": "340538b4",
   "metadata": {},
   "outputs": [],
   "source": []
  }
 ],
 "metadata": {
  "kernelspec": {
   "display_name": "Python 3 (ipykernel)",
   "language": "python",
   "name": "python3"
  },
  "language_info": {
   "codemirror_mode": {
    "name": "ipython",
    "version": 3
   },
   "file_extension": ".py",
   "mimetype": "text/x-python",
   "name": "python",
   "nbconvert_exporter": "python",
   "pygments_lexer": "ipython3",
   "version": "3.9.7"
  }
 },
 "nbformat": 4,
 "nbformat_minor": 5
}
