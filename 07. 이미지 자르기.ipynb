{
 "cells": [
  {
   "cell_type": "markdown",
   "id": "b843386b",
   "metadata": {},
   "source": [
    "# 7.이미지 자르기"
   ]
  },
  {
   "cell_type": "markdown",
   "id": "721ef59c",
   "metadata": {},
   "source": [
    "영역을 잘라서 새로운 윈도우에 표시"
   ]
  },
  {
   "cell_type": "code",
   "execution_count": 2,
   "id": "a7b414f6",
   "metadata": {},
   "outputs": [],
   "source": [
    "import cv2\n",
    "img = cv2.imread('img.jpg')\n",
    "# print(img.shape) (390,640, 3)\n",
    "\n",
    "crop= img[5:300, 100:600] # 세로 5-300, 가로 100-600\n",
    "\n",
    "cv2.imshow('img',img)\n",
    "cv2.imshow('crop',crop)\n",
    "\n",
    "cv2.waitKey(0)\n",
    "cv2.destroyAllWindows()"
   ]
  },
  {
   "cell_type": "markdown",
   "id": "a9bdb9cc",
   "metadata": {},
   "source": [
    "영역을 잘라서 기존 윈도우에 표시"
   ]
  },
  {
   "cell_type": "code",
   "execution_count": 5,
   "id": "8a09b8df",
   "metadata": {},
   "outputs": [],
   "source": [
    "import cv2\n",
    "img = cv2.imread('img.jpg')\n",
    "\n",
    "\n",
    "crop= img[100:200, 200:400] # 세로 100-200, 가로 200-400\n",
    "img[100:200,400:600] = crop\n",
    "cv2.imshow('img',img)\n",
    "\n",
    "\n",
    "cv2.waitKey(0)\n",
    "cv2.destroyAllWindows()"
   ]
  }
 ],
 "metadata": {
  "kernelspec": {
   "display_name": "Python 3 (ipykernel)",
   "language": "python",
   "name": "python3"
  },
  "language_info": {
   "codemirror_mode": {
    "name": "ipython",
    "version": 3
   },
   "file_extension": ".py",
   "mimetype": "text/x-python",
   "name": "python",
   "nbconvert_exporter": "python",
   "pygments_lexer": "ipython3",
   "version": "3.9.7"
  }
 },
 "nbformat": 4,
 "nbformat_minor": 5
}
