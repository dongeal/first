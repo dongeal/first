{
 "cells": [
  {
   "cell_type": "markdown",
   "id": "cca6371d",
   "metadata": {},
   "source": [
    "# 13. 이미지 변형(이진화)"
   ]
  },
  {
   "cell_type": "markdown",
   "id": "8709b160",
   "metadata": {},
   "source": [
    "## Threshold"
   ]
  },
  {
   "cell_type": "code",
   "execution_count": 3,
   "id": "879ad90c",
   "metadata": {},
   "outputs": [],
   "source": [
    "import cv2\n",
    "img=cv2.imread('book.jpg',cv2.IMREAD_GRAYSCALE)\n",
    "\n",
    "ret, binary= cv2.threshold(img, 127, 255, cv2.THRESH_BINARY)\n",
    "\n",
    "cv2.imshow('img',img)\n",
    "cv2.imshow('binary', binary)\n",
    "cv2.waitKey(0)\n",
    "cv2.destroyAllWindows()"
   ]
  },
  {
   "cell_type": "markdown",
   "id": "b9c4e5f2",
   "metadata": {},
   "source": [
    "## Trackbar (값변형에 따른 변형 확인)"
   ]
  },
  {
   "cell_type": "code",
   "execution_count": 2,
   "id": "814282a8",
   "metadata": {},
   "outputs": [],
   "source": [
    "import cv2\n",
    "\n",
    "def empty(pos):\n",
    "    # print(pos)\n",
    "    pass\n",
    "\n",
    "img=cv2.imread('book.jpg',cv2.IMREAD_GRAYSCALE)\n",
    "\n",
    "\n",
    "\n",
    "name='Trackbar'\n",
    "cv2.namedWindow(name)\n",
    "\n",
    "cv2.createTrackbar('threshold',name, 127, 255, empty) \n",
    "    # bar 이름, 창이름, 초기값, 최대값, 이벤트 처리\n",
    "\n",
    "while True:\n",
    "    thresh=cv2.getTrackbarPos('threshold', name) # bar 이름, 창이름\n",
    "    ret,binary= cv2.threshold(img, thresh, 255, cv2.THRESH_BINARY)\n",
    "    \n",
    "    if not ret:\n",
    "        break\n",
    "    \n",
    "    cv2.imshow(name,binary)\n",
    "    if cv2.waitKey(1) == ord('q'):\n",
    "        break\n",
    "cv2.destroyAllWindows()"
   ]
  },
  {
   "cell_type": "markdown",
   "id": "084dc803",
   "metadata": {},
   "source": [
    "## 그림판이미지로 확인"
   ]
  },
  {
   "cell_type": "code",
   "execution_count": 7,
   "id": "b95c0c40",
   "metadata": {},
   "outputs": [],
   "source": [
    "import cv2\n",
    "\n",
    "def empty(pos):\n",
    "    # print(pos)\n",
    "    pass\n",
    "\n",
    "img=cv2.imread('threshold.png',cv2.IMREAD_GRAYSCALE)\n",
    "\n",
    "\n",
    "cv2.imshow('original', img)\n",
    "name='Trackbar'\n",
    "cv2.namedWindow(name)\n",
    "\n",
    "cv2.createTrackbar('threshold',name, 127, 255, empty) \n",
    "    # bar 이름, 창이름, 초기값, 최대값, 이벤트 처리\n",
    "\n",
    "while True:\n",
    "    thresh=cv2.getTrackbarPos('threshold', name) # bar 이름, 창이름\n",
    "    ret,binary= cv2.threshold(img, thresh, 255, cv2.THRESH_BINARY)\n",
    "    \n",
    "    if not ret:\n",
    "        break\n",
    "    \n",
    "    cv2.imshow(name,binary)\n",
    "    if cv2.waitKey(1) == ord('q'):\n",
    "        break\n",
    "cv2.destroyAllWindows()"
   ]
  },
  {
   "cell_type": "markdown",
   "id": "e0b827b6",
   "metadata": {},
   "source": [
    "## Adapted Thershold\n",
    "이미지를 작은 영역으로 나누어 임계치 적용"
   ]
  },
  {
   "cell_type": "code",
   "execution_count": 8,
   "id": "b37dcd42",
   "metadata": {},
   "outputs": [],
   "source": [
    "import cv2\n",
    "\n",
    "def empty(pos):\n",
    "    # print(pos)\n",
    "    pass\n",
    "\n",
    "img=cv2.imread('book.jpg',cv2.IMREAD_GRAYSCALE)\n",
    "\n",
    "\n",
    "\n",
    "name='Trackbar'\n",
    "cv2.namedWindow(name)\n",
    "\n",
    "# bar 이름, 창이름, 초기값, 최대값, 이벤트 처리\n",
    "cv2.createTrackbar('block_size', name, 25, 100, empty) #홀수만가능, 1보다큰값\n",
    "cv2.createTrackbar('c', name, 3, 10, empty) # 일반적으로 양수  \n",
    "\n",
    "while True:\n",
    "    block_size=cv2.getTrackbarPos('block_size', name) # bar 이름, 창이름\n",
    "    c=cv2.getTrackbarPos('c', name)\n",
    "    \n",
    "    if block_size <= 1:\n",
    "        block_size=3\n",
    "    if block_size%2 == 0:  # 짝수\n",
    "        block_size +=1\n",
    "    \n",
    "    binary= cv2.adaptiveThreshold(img, 255,cv2.ADAPTIVE_THRESH_MEAN_C, cv2.THRESH_BINARY, block_size,c)\n",
    "   \n",
    "    cv2.imshow(name,binary)\n",
    "    if cv2.waitKey(1) == ord('q'):\n",
    "        break\n",
    "cv2.destroyAllWindows()"
   ]
  },
  {
   "cell_type": "markdown",
   "id": "d6c031f2",
   "metadata": {},
   "source": [
    "## 오츠 알고리즘"
   ]
  },
  {
   "cell_type": "markdown",
   "id": "778c8014",
   "metadata": {},
   "source": [
    "Bimodal Image 에 적합 (임계값 자동 산출)"
   ]
  },
  {
   "cell_type": "code",
   "execution_count": 9,
   "id": "4173ebf7",
   "metadata": {},
   "outputs": [
    {
     "name": "stdout",
     "output_type": "stream",
     "text": [
      "otsh Threshold 100.0\n"
     ]
    }
   ],
   "source": [
    "import cv2\n",
    "img=cv2.imread('book.jpg',cv2.IMREAD_GRAYSCALE)\n",
    "\n",
    "ret, binary= cv2.threshold(img, 127, 255, cv2.THRESH_BINARY)\n",
    "ret, otsu= cv2.threshold(img, -1, 255, cv2.THRESH_BINARY | cv2.THRESH_OTSU)\n",
    "print('otsh Threshold', ret)\n",
    "\n",
    "cv2.imshow('img',img)\n",
    "cv2.imshow('binary', binary)\n",
    "cv2.imshow('otsu', binary)\n",
    "\n",
    "cv2.waitKey(0)\n",
    "cv2.destroyAllWindows()"
   ]
  }
 ],
 "metadata": {
  "kernelspec": {
   "display_name": "Python 3 (ipykernel)",
   "language": "python",
   "name": "python3"
  },
  "language_info": {
   "codemirror_mode": {
    "name": "ipython",
    "version": 3
   },
   "file_extension": ".py",
   "mimetype": "text/x-python",
   "name": "python",
   "nbconvert_exporter": "python",
   "pygments_lexer": "ipython3",
   "version": "3.9.7"
  }
 },
 "nbformat": 4,
 "nbformat_minor": 5
}
