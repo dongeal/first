{
 "cells": [
  {
   "cell_type": "markdown",
   "id": "eee4656b",
   "metadata": {},
   "source": [
    "# 8. 이미지 대칭"
   ]
  },
  {
   "cell_type": "markdown",
   "id": "b6d4ef88",
   "metadata": {},
   "source": [
    "### 좌우대칭"
   ]
  },
  {
   "cell_type": "code",
   "execution_count": 2,
   "id": "f817ac43",
   "metadata": {},
   "outputs": [],
   "source": [
    "import cv2\n",
    "img=cv2.imread('img.jpg')\n",
    "flip_horizental = cv2.flip(img, 1) # flipcode >0  좌우대칭\n",
    "\n",
    "cv2.imshow('img',img)\n",
    "cv2.imshow('flip_h',flip_horizental)\n",
    "cv2.waitKey(0)\n",
    "cv2.destroyAllWindows()"
   ]
  },
  {
   "cell_type": "markdown",
   "id": "087c7b99",
   "metadata": {},
   "source": [
    "상하대칭"
   ]
  },
  {
   "cell_type": "code",
   "execution_count": 3,
   "id": "870b610b",
   "metadata": {},
   "outputs": [],
   "source": [
    "import cv2\n",
    "img=cv2.imread('img.jpg')\n",
    "flip_vertical = cv2.flip(img, 0) # flipcode =0  상하대칭\n",
    "\n",
    "cv2.imshow('img',img)\n",
    "cv2.imshow('flip_v',flip_vertical)\n",
    "cv2.waitKey(0)\n",
    "cv2.destroyAllWindows()"
   ]
  },
  {
   "cell_type": "markdown",
   "id": "56ebbe9a",
   "metadata": {},
   "source": [
    "상하좌우 대칭"
   ]
  },
  {
   "cell_type": "code",
   "execution_count": 4,
   "id": "8c650825",
   "metadata": {},
   "outputs": [],
   "source": [
    "import cv2\n",
    "img=cv2.imread('img.jpg')\n",
    "flip_both = cv2.flip(img, -1) # flipcode <0  상하좌우대칭\n",
    "\n",
    "cv2.imshow('img',img)\n",
    "cv2.imshow('flip_b',flip_both)\n",
    "cv2.waitKey(0)\n",
    "cv2.destroyAllWindows()"
   ]
  }
 ],
 "metadata": {
  "kernelspec": {
   "display_name": "Python 3 (ipykernel)",
   "language": "python",
   "name": "python3"
  },
  "language_info": {
   "codemirror_mode": {
    "name": "ipython",
    "version": 3
   },
   "file_extension": ".py",
   "mimetype": "text/x-python",
   "name": "python",
   "nbconvert_exporter": "python",
   "pygments_lexer": "ipython3",
   "version": "3.9.7"
  }
 },
 "nbformat": 4,
 "nbformat_minor": 5
}
