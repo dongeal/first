{
 "cells": [
  {
   "cell_type": "markdown",
   "id": "ee64c2b2",
   "metadata": {},
   "source": [
    "# 17. 이미지 검출( 경계선)"
   ]
  },
  {
   "cell_type": "markdown",
   "id": "227d5d32",
   "metadata": {},
   "source": [
    "## Canny Edge Detection"
   ]
  },
  {
   "cell_type": "code",
   "execution_count": 3,
   "id": "b6cdaec5",
   "metadata": {},
   "outputs": [],
   "source": [
    "import cv2\n",
    "img= cv2.imread('snowman.png')\n",
    "\n",
    "canny= cv2.Canny(img, 150, 200)\n",
    "# 대상이미지 , miniVal, maxVal\n",
    "\n",
    "cv2.imshow('img', img)\n",
    "cv2.imshow('Canny',canny)\n",
    "cv2.waitKey(0)\n",
    "cv2.destroyAllWindows()"
   ]
  },
  {
   "cell_type": "code",
   "execution_count": 2,
   "id": "bb42aa3e",
   "metadata": {},
   "outputs": [],
   "source": [
    "import cv2\n",
    "img= cv2.imread('snowman.png')\n",
    "\n",
    "def empty(pos):\n",
    "    pass\n",
    "\n",
    "name=\"Trackbar\"\n",
    "cv2.namedWindow(name)\n",
    "cv2.createTrackbar('threshold1', name, 0, 255, empty)\n",
    "cv2.createTrackbar('threshold2', name, 0, 255, empty)\n",
    "\n",
    "while True:\n",
    "    threshold1=cv2.getTrackbarPos('threshold1', name)\n",
    "    threshold2=cv2.getTrackbarPos('threshold2', name)\n",
    "    \n",
    "    canny=cv2.Canny(img, threshold1, threshold2)\n",
    "    # 대상이미지 , miniVal, maxVal\n",
    "\n",
    "    cv2.imshow('img', img)\n",
    "    cv2.imshow(name, canny)\n",
    "    \n",
    "    if cv2.waitKey(1) == ord('q'):\n",
    "        break\n",
    "\n",
    "cv2.destroyAllWindows()"
   ]
  }
 ],
 "metadata": {
  "kernelspec": {
   "display_name": "Python 3 (ipykernel)",
   "language": "python",
   "name": "python3"
  },
  "language_info": {
   "codemirror_mode": {
    "name": "ipython",
    "version": 3
   },
   "file_extension": ".py",
   "mimetype": "text/x-python",
   "name": "python",
   "nbconvert_exporter": "python",
   "pygments_lexer": "ipython3",
   "version": "3.9.7"
  }
 },
 "nbformat": 4,
 "nbformat_minor": 5
}
