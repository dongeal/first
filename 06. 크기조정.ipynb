{
 "cells": [
  {
   "cell_type": "markdown",
   "id": "d1b15e83",
   "metadata": {},
   "source": [
    "#  6. 크기조정"
   ]
  },
  {
   "cell_type": "markdown",
   "id": "d260f4f2",
   "metadata": {},
   "source": [
    "# 이미지"
   ]
  },
  {
   "cell_type": "code",
   "execution_count": null,
   "id": "79625118",
   "metadata": {},
   "outputs": [],
   "source": []
  },
  {
   "cell_type": "markdown",
   "id": "8670f7d0",
   "metadata": {},
   "source": [
    "고정크기로설정"
   ]
  },
  {
   "cell_type": "code",
   "execution_count": 4,
   "id": "57ece8f9",
   "metadata": {},
   "outputs": [],
   "source": [
    "import cv2\n",
    "img=cv2.imread('img.jpg')\n",
    "dst=cv2.resize(img, (400,500))  # 가로 세로 고정 크기\n",
    "\n",
    "cv2.imshow('img', img)\n",
    "cv2.imshow('resize',dst)\n",
    "\n",
    "cv2.waitKey(0)\n",
    "cv2.destroyAllWindows()"
   ]
  },
  {
   "cell_type": "markdown",
   "id": "b33ed9f5",
   "metadata": {},
   "source": [
    "비율로 설정"
   ]
  },
  {
   "cell_type": "code",
   "execution_count": null,
   "id": "b2e6079b",
   "metadata": {},
   "outputs": [],
   "source": [
    "import cv2\n",
    "img=cv2.imread('snowman.png')\n",
    "dst=cv2.resize(img, None, fx=0.5, fy=0.5)  # 0.5 크기\n",
    "cv2.imwrite('snowman1.png',dst)\n",
    "cv2.imshow('img', img)\n",
    "cv2.imshow('resize',dst)\n",
    "\n",
    "cv2.waitKey(0)\n",
    "cv2.destroyAllWindows()"
   ]
  },
  {
   "cell_type": "markdown",
   "id": "d93739b9",
   "metadata": {},
   "source": [
    "### 보간법\n",
    "1. cv2.INTER_AREA :  크기를 줄일때\n",
    "1. cv2.INTER_CUBIC : 크기를 늘리때 사용(속도 느리지만 퀄리티 좋음\n",
    "1. cv2.INTER_LINEAR : 크기늘릴때 (기본값)"
   ]
  },
  {
   "cell_type": "markdown",
   "id": "b785f49d",
   "metadata": {},
   "source": [
    "보간법 적용하여 축소"
   ]
  },
  {
   "cell_type": "code",
   "execution_count": 9,
   "id": "99a35078",
   "metadata": {},
   "outputs": [],
   "source": [
    "import cv2\n",
    "img=cv2.imread('img.jpg')\n",
    "dst=cv2.resize(img, None, fx=0.5, fy=0.5, interpolation=cv2.INTER_AREA)  # 0.5 크기\n",
    "\n",
    "cv2.imshow('img', img)\n",
    "cv2.imshow('resize',dst)\n",
    "\n",
    "cv2.waitKey(0)\n",
    "cv2.destroyAllWindows()"
   ]
  },
  {
   "cell_type": "markdown",
   "id": "e69dcb05",
   "metadata": {},
   "source": [
    "보간법 적용하여 확대"
   ]
  },
  {
   "cell_type": "code",
   "execution_count": 10,
   "id": "f378cf89",
   "metadata": {},
   "outputs": [],
   "source": [
    "import cv2\n",
    "img=cv2.imread('img.jpg')\n",
    "dst=cv2.resize(img, None, fx=1.5, fy=1.5, interpolation=cv2.INTER_CUBIC)  # 1.5 크기\n",
    "\n",
    "cv2.imshow('img', img)\n",
    "cv2.imshow('resize',dst)\n",
    "\n",
    "cv2.waitKey(0)\n",
    "cv2.destroyAllWindows()"
   ]
  },
  {
   "cell_type": "markdown",
   "id": "5ccf0aa0",
   "metadata": {},
   "source": [
    "# 동영상\n",
    "고정크기로 설정"
   ]
  },
  {
   "cell_type": "code",
   "execution_count": 13,
   "id": "e76e1351",
   "metadata": {},
   "outputs": [],
   "source": [
    "import cv2\n",
    "cap= cv2.VideoCapture('video.mp4')\n",
    "\n",
    "while cap.isOpened():\n",
    "    ret, frame= cap.read()\n",
    "    if not ret:\n",
    "        break\n",
    "        \n",
    "    frame_resized= cv2.resize(frame,(400,500))    \n",
    "    cv2.imshow('video', frame_resized)\n",
    "    \n",
    "    if cv2.waitKey(1) == ord('q'):\n",
    "        break\n",
    "        \n",
    "cap.release()\n",
    "cv2.destroyAllWindows()"
   ]
  },
  {
   "cell_type": "markdown",
   "id": "d570ba79",
   "metadata": {},
   "source": [
    "비율로 설정"
   ]
  },
  {
   "cell_type": "code",
   "execution_count": 18,
   "id": "29344909",
   "metadata": {},
   "outputs": [],
   "source": [
    "import cv2\n",
    "cap= cv2.VideoCapture('video.mp4')\n",
    "\n",
    "while cap.isOpened():\n",
    "    ret, frame= cap.read()\n",
    "    if not ret:\n",
    "        break\n",
    "        \n",
    "    frame_resized= cv2.resize(frame,None, fx=1.5,fy=1.5, interpolation=cv2.INTER_CUBIC )    \n",
    "    cv2.imshow('video', frame_resized)\n",
    "    \n",
    "    if cv2.waitKey(1) == ord('q'):\n",
    "        break\n",
    "        \n",
    "cap.release()\n",
    "cv2.destroyAllWindows()"
   ]
  }
 ],
 "metadata": {
  "kernelspec": {
   "display_name": "Python 3 (ipykernel)",
   "language": "python",
   "name": "python3"
  },
  "language_info": {
   "codemirror_mode": {
    "name": "ipython",
    "version": 3
   },
   "file_extension": ".py",
   "mimetype": "text/x-python",
   "name": "python",
   "nbconvert_exporter": "python",
   "pygments_lexer": "ipython3",
   "version": "3.9.7"
  }
 },
 "nbformat": 4,
 "nbformat_minor": 5
}
