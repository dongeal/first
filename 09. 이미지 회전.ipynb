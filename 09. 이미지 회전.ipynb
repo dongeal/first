{
 "cells": [
  {
   "cell_type": "markdown",
   "id": "74f1d7d5",
   "metadata": {},
   "source": [
    "# 9. 이미지 회전"
   ]
  },
  {
   "cell_type": "markdown",
   "id": "1a0a2b09",
   "metadata": {},
   "source": [
    "## 시계방향 90도 회전"
   ]
  },
  {
   "cell_type": "code",
   "execution_count": 2,
   "id": "02415af3",
   "metadata": {},
   "outputs": [],
   "source": [
    "import cv2\n",
    "img=cv2.imread('img.jpg')\n",
    "\n",
    "rotate_90=cv2.rotate(img, cv2.ROTATE_90_CLOCKWISE) # 시계방향 90 회전\n",
    "\n",
    "cv2.imshow('img', img)\n",
    "cv2.imshow('ro90', rotate_90)\n",
    "cv2.waitKey(0)\n",
    "cv2.destroyAllWindows()"
   ]
  },
  {
   "cell_type": "markdown",
   "id": "ce354c38",
   "metadata": {},
   "source": [
    "## 180 도 회전"
   ]
  },
  {
   "cell_type": "code",
   "execution_count": 5,
   "id": "bb6456c5",
   "metadata": {},
   "outputs": [],
   "source": [
    "import cv2\n",
    "img=cv2.imread('img.jpg')\n",
    "\n",
    "rotate_180=cv2.rotate(img, cv2.ROTATE_180) # 시계방향 180 회전\n",
    "\n",
    "cv2.imshow('img', img)\n",
    "cv2.imshow('ro90', rotate_180)\n",
    "cv2.waitKey(0)\n",
    "cv2.destroyAllWindows()"
   ]
  },
  {
   "cell_type": "markdown",
   "id": "87edd522",
   "metadata": {},
   "source": [
    "## 시계 반대방향 90 도 회전( 시계방향 270)"
   ]
  },
  {
   "cell_type": "code",
   "execution_count": 9,
   "id": "053732f5",
   "metadata": {},
   "outputs": [],
   "source": [
    "import cv2\n",
    "img=cv2.imread('img.jpg')\n",
    "\n",
    "rotate_270=cv2.rotate(img, cv2.ROTATE_90_COUNTERCLOCKWISE) # 시계반대방향 90 회전\n",
    "\n",
    "cv2.imshow('img', img)\n",
    "cv2.imshow('ro270', rotate_270)\n",
    "cv2.waitKey(0)\n",
    "cv2.destroyAllWindows()"
   ]
  }
 ],
 "metadata": {
  "kernelspec": {
   "display_name": "Python 3 (ipykernel)",
   "language": "python",
   "name": "python3"
  },
  "language_info": {
   "codemirror_mode": {
    "name": "ipython",
    "version": 3
   },
   "file_extension": ".py",
   "mimetype": "text/x-python",
   "name": "python",
   "nbconvert_exporter": "python",
   "pygments_lexer": "ipython3",
   "version": "3.9.7"
  }
 },
 "nbformat": 4,
 "nbformat_minor": 5
}
