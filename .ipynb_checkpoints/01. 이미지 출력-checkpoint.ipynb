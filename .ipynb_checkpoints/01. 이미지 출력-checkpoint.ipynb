{
 "cells": [
  {
   "cell_type": "markdown",
   "id": "5f96a274",
   "metadata": {},
   "source": [
    "# 환경설정\n",
    "Anaconda Prompt에서 다음명령 실행\n",
    "> pip intall opencv-python"
   ]
  },
  {
   "cell_type": "code",
   "execution_count": 1,
   "id": "4bfa1b4e",
   "metadata": {},
   "outputs": [
    {
     "data": {
      "text/plain": [
       "'4.5.5'"
      ]
     },
     "execution_count": 1,
     "metadata": {},
     "output_type": "execute_result"
    }
   ],
   "source": [
    "import cv2\n",
    "cv2.__version__"
   ]
  },
  {
   "cell_type": "markdown",
   "id": "03cc5744",
   "metadata": {},
   "source": [
    "# OpenCV (Computer Vision)\n",
    "다양한 영상과 이미지를 처리하는 오픈 소스라이브러리"
   ]
  },
  {
   "cell_type": "markdown",
   "id": "8a678f60",
   "metadata": {},
   "source": [
    "# 1. 이미지 출력"
   ]
  },
  {
   "cell_type": "code",
   "execution_count": 2,
   "id": "58af7a24",
   "metadata": {},
   "outputs": [
    {
     "name": "stdout",
     "output_type": "stream",
     "text": [
      "113\n"
     ]
    }
   ],
   "source": [
    "import cv2\n",
    "img = cv2.imread('img.jpg') # 해당경로 파일 불러오기\n",
    "cv2.imshow('image' , img) # image라는 창에 이미지 표시\n",
    "key=cv2.waitKey(0) #정된시간 ms 사용자 입력키 대기 0 이면 계속\n",
    "print(key) #아스키값\n",
    "cv2.destroyAllWindows() #모든 창 닫기"
   ]
  },
  {
   "cell_type": "markdown",
   "id": "89812742",
   "metadata": {},
   "source": [
    "## 읽기 옵션\n",
    "1.cv2.IMREAD_COLOR  : 컬러이미지, 투명영역은 무시(기본값)\n",
    "2.cv2.IMREAD_GRAYSCALE :흑백\n",
    "3.cv2.IMREAD_UNCHANGED : 투명영역까지 포함"
   ]
  },
  {
   "cell_type": "code",
   "execution_count": 3,
   "id": "34d8c493",
   "metadata": {},
   "outputs": [],
   "source": [
    "import cv2\n",
    "img_color=cv2.imread('img.jpg',cv2.IMREAD_COLOR)\n",
    "img_gray=cv2.imread('img.jpg',cv2.IMREAD_GRAYSCALE)\n",
    "img_unchanged=cv2.imread('img.jpg',cv2.IMREAD_UNCHANGED)\n",
    "\n",
    "cv2.imshow('img_color',img_color)\n",
    "cv2.imshow('img_gray',img_gray)\n",
    "cv2.imshow('img_unchanged',img_unchanged)\n",
    "\n",
    "\n",
    "cv2.waitKey(0) \n",
    "cv2.destroyAllWindows()"
   ]
  },
  {
   "cell_type": "markdown",
   "id": "954ef3ec",
   "metadata": {},
   "source": [
    "## Shape\n",
    "이미지의 height,width,channel 정보"
   ]
  },
  {
   "cell_type": "code",
   "execution_count": 4,
   "id": "aeb3241e",
   "metadata": {
    "scrolled": true
   },
   "outputs": [
    {
     "data": {
      "text/plain": [
       "(390, 640, 3)"
      ]
     },
     "execution_count": 4,
     "metadata": {},
     "output_type": "execute_result"
    }
   ],
   "source": [
    "import cv2\n",
    "img=cv2.imread('img.jpg')\n",
    "img.shape #세로, 가로, Channel 3--> rgb\n",
    "              "
   ]
  },
  {
   "cell_type": "code",
   "execution_count": null,
   "id": "ccfe3465",
   "metadata": {},
   "outputs": [],
   "source": []
  },
  {
   "cell_type": "code",
   "execution_count": null,
   "id": "d2e04512",
   "metadata": {},
   "outputs": [],
   "source": []
  }
 ],
 "metadata": {
  "kernelspec": {
   "display_name": "Python 3 (ipykernel)",
   "language": "python",
   "name": "python3"
  },
  "language_info": {
   "codemirror_mode": {
    "name": "ipython",
    "version": 3
   },
   "file_extension": ".py",
   "mimetype": "text/x-python",
   "name": "python",
   "nbconvert_exporter": "python",
   "pygments_lexer": "ipython3",
   "version": "3.9.7"
  }
 },
 "nbformat": 4,
 "nbformat_minor": 5
}
