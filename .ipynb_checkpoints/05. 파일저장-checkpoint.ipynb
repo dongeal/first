{
 "cells": [
  {
   "cell_type": "markdown",
   "id": "248d5d08",
   "metadata": {},
   "source": [
    "# 5. 파일저장\n"
   ]
  },
  {
   "cell_type": "markdown",
   "id": "ea9747a3",
   "metadata": {},
   "source": [
    "## 이미지 저장"
   ]
  },
  {
   "cell_type": "code",
   "execution_count": 5,
   "id": "04661e2f",
   "metadata": {},
   "outputs": [
    {
     "name": "stdout",
     "output_type": "stream",
     "text": [
      "True\n"
     ]
    }
   ],
   "source": [
    "import cv2\n",
    "img=cv2.imread('img.jpg', cv2.IMREAD_GRAYSCALE)\n",
    "cv2.imshow('img', img)\n",
    "cv2.waitKey(0)\n",
    "cv2.destroyAllWindows()\n",
    "\n",
    "result = cv2.imwrite('img_save.png', img)\n",
    "print(result)"
   ]
  },
  {
   "cell_type": "code",
   "execution_count": 6,
   "id": "112d8cb6",
   "metadata": {},
   "outputs": [
    {
     "data": {
      "text/plain": [
       "True"
      ]
     },
     "execution_count": 6,
     "metadata": {},
     "output_type": "execute_result"
    }
   ],
   "source": [
    "import cv2\n",
    "img=cv2.imread('img.jpg', cv2.IMREAD_GRAYSCALE)\n",
    "cv2.imwrite('img_simple.bmp', img)"
   ]
  },
  {
   "cell_type": "markdown",
   "id": "40ae2fe9",
   "metadata": {},
   "source": [
    "## 동영상 저장"
   ]
  },
  {
   "cell_type": "code",
   "execution_count": 14,
   "id": "70362ed6",
   "metadata": {},
   "outputs": [],
   "source": [
    "import cv2\n",
    "cap=cv2.VideoCapture('video.mp4')\n",
    "\n",
    "# 코덱 정의\n",
    "fourcc= cv2.VideoWriter_fourcc(*'DIVX') # ('D','I','V','X') 와 같은효과\n",
    "\n",
    "width =round(cap.get(cv2.CAP_PROP_FRAME_WIDTH)) \n",
    "height =round(cap.get(cv2.CAP_PROP_FRAME_HEIGHT))\n",
    "fps=cap.get(cv2.CAP_PROP_FPS)\n",
    "fps_fast=cap.get(cv2.CAP_PROP_FPS)*2\n",
    "\n",
    "out=cv2.VideoWriter('output.avi', fourcc, fps,(width,height))\n",
    "out_fast=cv2.VideoWriter('output_fast.avi', fourcc, fps_fast,(width,height))\n",
    "\n",
    "\n",
    "while cap.isOpened() :\n",
    "    ret, frame =  cap.read()\n",
    "    if not ret :\n",
    "        break\n",
    "    \n",
    "    out.write(frame) # 영상만 저장 (소리X)\n",
    "    out_fast.write(frame)\n",
    "\n",
    "    cv2.imshow('vide', frame)\n",
    "    \n",
    "    if cv2.waitKey(1) == ord('q') :\n",
    "        break\n",
    "        \n",
    "out_fast.release()\n",
    "out.release()\n",
    "cap.release()\n",
    "cv2.destroyAllWindows()\n",
    "        "
   ]
  },
  {
   "cell_type": "code",
   "execution_count": 13,
   "id": "fa2b1623",
   "metadata": {
    "scrolled": true
   },
   "outputs": [
    {
     "name": "stdout",
     "output_type": "stream",
     "text": [
      "DIVX\n",
      "D I V X\n",
      "['DIVX']\n",
      "['D', 'I', 'V', 'X']\n"
     ]
    }
   ],
   "source": [
    "# codec='DIVX'\n",
    "# print(codec)\n",
    "# print(*codec)\n",
    "# print([codec])\n",
    "# print([*codec])"
   ]
  }
 ],
 "metadata": {
  "kernelspec": {
   "display_name": "Python 3 (ipykernel)",
   "language": "python",
   "name": "python3"
  },
  "language_info": {
   "codemirror_mode": {
    "name": "ipython",
    "version": 3
   },
   "file_extension": ".py",
   "mimetype": "text/x-python",
   "name": "python",
   "nbconvert_exporter": "python",
   "pygments_lexer": "ipython3",
   "version": "3.9.7"
  }
 },
 "nbformat": 4,
 "nbformat_minor": 5
}
