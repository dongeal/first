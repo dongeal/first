{
 "cells": [
  {
   "cell_type": "markdown",
   "id": "0e124b6d",
   "metadata": {},
   "source": [
    "# 2.동영상 출력"
   ]
  },
  {
   "cell_type": "markdown",
   "id": "10ccdd4f",
   "metadata": {},
   "source": [
    "## 동영상 파일 출력"
   ]
  },
  {
   "cell_type": "code",
   "execution_count": 7,
   "id": "e035efac",
   "metadata": {},
   "outputs": [
    {
     "name": "stdout",
     "output_type": "stream",
     "text": [
      "사용자입력에의해 종료\n"
     ]
    }
   ],
   "source": [
    "import cv2\n",
    "cap= cv2.VideoCapture('video.mp4')\n",
    "\n",
    "while cad.isOpened(): # 동영상 파일이 올바로 열렸는지?\n",
    "    ret, frame=cap.read() #  ret: 성공여부,  frame : 받아온 이미지프레임\n",
    "    if not ret:\n",
    "        print('더이상 가저올 프레임이 없어요')\n",
    "        break\n",
    "        \n",
    "    cv2.imshow('video',frame)    \n",
    "    \n",
    "    if cv2.waitKey(30) == ord('q'): #프레임당 기다림 속도\n",
    "        print('사용자입력에의해 종료')\n",
    "        break\n",
    "\n",
    "cap.release() #  자원 해제\n",
    "cv2.destroyAllWindows() # 모든 창 닫기"
   ]
  },
  {
   "cell_type": "markdown",
   "id": "017e5dc4",
   "metadata": {},
   "source": [
    "## 카메라 출력"
   ]
  },
  {
   "cell_type": "code",
   "execution_count": 1,
   "id": "f5e0a838",
   "metadata": {},
   "outputs": [],
   "source": [
    "import cv2\n",
    "cap= cv2.VideoCapture(0) # 0번쩨 카메라 장치 (Device ID)\n",
    "\n",
    "if not cap.isOpened(): # 카메라 열리지 않은경우\n",
    "    exit() # 프로그램종료\n",
    "\n",
    "    \n",
    "while True:\n",
    "    ret, frame = cap.read()\n",
    "    if not ret:\n",
    "        break\n",
    "        \n",
    "    cv2.imshow('camera',frame)\n",
    "    if cv2.waitKey(1)== ord('q'): #사용자가 q 입력하면\n",
    "        break\n",
    "\n",
    "cap.release()\n",
    "cv2.destroyAllWindows()"
   ]
  }
 ],
 "metadata": {
  "kernelspec": {
   "display_name": "Python 3 (ipykernel)",
   "language": "python",
   "name": "python3"
  },
  "language_info": {
   "codemirror_mode": {
    "name": "ipython",
    "version": 3
   },
   "file_extension": ".py",
   "mimetype": "text/x-python",
   "name": "python",
   "nbconvert_exporter": "python",
   "pygments_lexer": "ipython3",
   "version": "3.9.7"
  }
 },
 "nbformat": 4,
 "nbformat_minor": 5
}
