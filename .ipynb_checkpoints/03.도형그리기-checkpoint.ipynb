{
 "cells": [
  {
   "cell_type": "markdown",
   "id": "9d29d02a",
   "metadata": {},
   "source": [
    "# 3. 도형 그리기"
   ]
  },
  {
   "cell_type": "markdown",
   "id": "76dd34e2",
   "metadata": {},
   "source": [
    "## 빈스케치북 만들기"
   ]
  },
  {
   "cell_type": "code",
   "execution_count": 7,
   "id": "3ce538d7",
   "metadata": {},
   "outputs": [],
   "source": [
    "import cv2\n",
    "import numpy as np\n",
    "\n",
    "# 세로 480 x 가로 640, 3 Channel [RGB]에 해당하는 스케치북 만들기\n",
    "img= np.zeros((480,640,3), dtype= np.uint8)\n",
    "img[:]=(255,255,255) # B G R 전체공간을 흰색으로 채움\n",
    "# print(img)\n",
    "cv2.imshow('img',img)\n",
    "cv2.waitKey(0)\n",
    "cv2.destroyAllWindows()"
   ]
  },
  {
   "cell_type": "markdown",
   "id": "a2b1407b",
   "metadata": {},
   "source": [
    "## 일부 영역 색칠"
   ]
  },
  {
   "cell_type": "code",
   "execution_count": 2,
   "id": "b9917983",
   "metadata": {},
   "outputs": [],
   "source": [
    "import cv2\n",
    "import numpy as np\n",
    "\n",
    "img= np.zeros((480,640,3), dtype= np.uint8)\n",
    "img[100:200,200:300]=(255,255,255)\n",
    "# [세로영역, 가로영역]\n",
    "\n",
    "cv2.imshow('img',img)\n",
    "cv2.waitKey(0)\n",
    "cv2.destroyAllWindows()"
   ]
  },
  {
   "cell_type": "markdown",
   "id": "69c73adf",
   "metadata": {},
   "source": [
    "## 직선\n",
    "직선의 종류(line type)\n",
    "\n",
    "1. cv2.LINE_4 :  상하좌우 4방향으로 연결된 선\n",
    "1. cv2.LINE_8:  상하좌우 대각선 8 방향으로  (기본값)\n",
    "1. cv2.LINE_AA: 부드러운선 (anti aliasing)"
   ]
  },
  {
   "cell_type": "code",
   "execution_count": 4,
   "id": "6421652b",
   "metadata": {},
   "outputs": [],
   "source": [
    "import cv2\n",
    "import numpy as np\n",
    "\n",
    "img= np.zeros((480,640,3), dtype= np.uint8)\n",
    "\n",
    "COLOR=(0,255,255) #BGR  노란색\n",
    "THICKNESS=3 #두께\n",
    "\n",
    "cv2.line(img,(50,100),(400,50),COLOR,THICKNESS,cv2.LINE_8)\n",
    "\n",
    "cv2.line(img,(50,200),(400,150),COLOR,THICKNESS,cv2.LINE_4)\n",
    "cv2.line(img,(50,300),(400,250),COLOR,THICKNESS,cv2.LINE_AA)\n",
    "\n",
    "\n",
    "cv2.imshow('img',img)\n",
    "cv2.waitKey(0)\n",
    "cv2.destroyAllWindows()"
   ]
  },
  {
   "cell_type": "markdown",
   "id": "1f306a7c",
   "metadata": {},
   "source": [
    "## 원"
   ]
  },
  {
   "cell_type": "code",
   "execution_count": 6,
   "id": "130d484e",
   "metadata": {},
   "outputs": [],
   "source": [
    "import cv2\n",
    "import numpy as np\n",
    "\n",
    "img= np.zeros((480,640,3), dtype= np.uint8)\n",
    "\n",
    "COLOR=(255,255,0) #BGR  옥색\n",
    "RADIUS=50 # 반지름\n",
    "THICKNESS=10 #두께\n",
    "\n",
    "cv2.circle(img,(200,100),RADIUS,COLOR,THICKNESS,cv2.LINE_AA)\n",
    "\n",
    "cv2.circle(img,(400,100),RADIUS,COLOR,cv2.FILLED,cv2.LINE_AA)\n",
    "\n",
    "\n",
    "cv2.imshow('img',img)\n",
    "cv2.waitKey(0)\n",
    "cv2.destroyAllWindows()"
   ]
  },
  {
   "cell_type": "markdown",
   "id": "675e6173",
   "metadata": {},
   "source": [
    "## 사각형"
   ]
  },
  {
   "cell_type": "code",
   "execution_count": 12,
   "id": "3153c382",
   "metadata": {},
   "outputs": [],
   "source": [
    "import cv2\n",
    "import numpy as np\n",
    "\n",
    "img= np.zeros((480,640,3), dtype= np.uint8)\n",
    "\n",
    "COLOR=(0,255,0) #BGR  녹색\n",
    "\n",
    "THICKNESS=1 #두께\n",
    "\n",
    "cv2.rectangle(img,(100,100),(200,200),COLOR,THICKNESS,)\n",
    "cv2.rectangle(img,(300,300),(400,400),COLOR,cv2.FILLED,cv2.LINE_AA)\n",
    "\n",
    "\n",
    "\n",
    "\n",
    "cv2.imshow('img',img)\n",
    "cv2.waitKey(0)\n",
    "cv2.destroyAllWindows()"
   ]
  },
  {
   "cell_type": "markdown",
   "id": "2f2c03c0",
   "metadata": {},
   "source": [
    "## 다각형"
   ]
  },
  {
   "cell_type": "code",
   "execution_count": null,
   "id": "0d1b3b88",
   "metadata": {},
   "outputs": [],
   "source": [
    "import cv2\n",
    "import numpy as np\n",
    "\n",
    "img= np.zeros((480,640,3), dtype= np.uint8)\n",
    "\n",
    "COLOR=(0,0,255) #BGR  빨간색\n",
    "\n",
    "THICKNESS=3 #두께\n",
    "\n",
    "pts1=np.array([[100,100],[200,100],[100,200]])\n",
    "# 가로,세로------\n",
    "\n",
    "pts2=np.array([[300,100],[300,200],[250,150]])\n",
    "\n",
    "\n",
    "#cv2.polylines(img,[pts1],True,COLOR,THICKNESS,cv2.LINE_AA)\n",
    "\n",
    "#cv2.polylines(img,[pts2],False,COLOR,THICKNESS,cv2.LINE_AA)\n",
    "cv2.polylines(img,[pts1,pts2],True,COLOR,THICKNESS,cv2.LINE_AA) # 속빈다각형\n",
    "\n",
    "pts3=np.array([[[100,300],[200,300],[100,400]],[[200,300],[300,300],[300,400]]])\n",
    "cv2.fillPoly(img,pts3,COLOR,cv2.LINE_AA)\n",
    "\n",
    "cv2.imshow('img',img)\n",
    "cv2.waitKey(0)\n",
    "cv2.destroyAllWindows()"
   ]
  }
 ],
 "metadata": {
  "kernelspec": {
   "display_name": "Python 3 (ipykernel)",
   "language": "python",
   "name": "python3"
  },
  "language_info": {
   "codemirror_mode": {
    "name": "ipython",
    "version": 3
   },
   "file_extension": ".py",
   "mimetype": "text/x-python",
   "name": "python",
   "nbconvert_exporter": "python",
   "pygments_lexer": "ipython3",
   "version": "3.9.7"
  }
 },
 "nbformat": 4,
 "nbformat_minor": 5
}
