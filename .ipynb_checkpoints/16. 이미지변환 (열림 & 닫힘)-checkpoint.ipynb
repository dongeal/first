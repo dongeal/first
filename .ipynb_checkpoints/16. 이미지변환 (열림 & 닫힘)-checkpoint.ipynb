{
 "cells": [
  {
   "cell_type": "markdown",
   "id": "dc1b36f2",
   "metadata": {},
   "source": [
    "# 16. 이미지변환 (열림 & 닫힘)"
   ]
  },
  {
   "cell_type": "markdown",
   "id": "d9eff7a3",
   "metadata": {},
   "source": [
    "## 열림(Opening): 침식후 팽창. 깍아서노이즈제거후 팽창\n",
    "dilate(erode(image))"
   ]
  },
  {
   "cell_type": "code",
   "execution_count": 2,
   "id": "4e3d09ba",
   "metadata": {},
   "outputs": [],
   "source": [
    "import cv2\n",
    "import numpy as np\n",
    "kernel= np.ones((3,3), dtype=np.uint8)\n",
    "\n",
    "img=cv2.imread('erode.png', cv2.IMREAD_GRAYSCALE)\n",
    "\n",
    "erode=cv2.erode(img, kernel, iterations=4)\n",
    "dilate=cv2.dilate(erode, kernel, iterations=4)\n",
    "\n",
    "\n",
    "cv2.imshow('img', img)\n",
    "cv2.imshow('erode', erode)\n",
    "cv2.imshow('dilate', dilate)\n",
    "cv2.waitKey(0)\n",
    "cv2.destroyAllWindows()"
   ]
  },
  {
   "cell_type": "markdown",
   "id": "6e88785b",
   "metadata": {},
   "source": [
    "## 닫힘(Closing): 팽창후 침식, 구멍을 메운후 깍음"
   ]
  },
  {
   "cell_type": "code",
   "execution_count": 2,
   "id": "9910ea6f",
   "metadata": {},
   "outputs": [],
   "source": [
    "import cv2\n",
    "import numpy as np\n",
    "kernel= np.ones((3,3), dtype=np.uint8)\n",
    "\n",
    "img=cv2.imread('dilate.png', cv2.IMREAD_GRAYSCALE)\n",
    "\n",
    "dilate=cv2.dilate(img, kernel, iterations=4)\n",
    "erode=cv2.erode(dilate, kernel, iterations=4)\n",
    "\n",
    "cv2.imshow('img', img)\n",
    "cv2.imshow('dilate', dilate)\n",
    "cv2.imshow('erode', erode)\n",
    "\n",
    "cv2.waitKey(0)\n",
    "cv2.destroyAllWindows()"
   ]
  }
 ],
 "metadata": {
  "kernelspec": {
   "display_name": "Python 3 (ipykernel)",
   "language": "python",
   "name": "python3"
  },
  "language_info": {
   "codemirror_mode": {
    "name": "ipython",
    "version": 3
   },
   "file_extension": ".py",
   "mimetype": "text/x-python",
   "name": "python",
   "nbconvert_exporter": "python",
   "pygments_lexer": "ipython3",
   "version": "3.9.7"
  }
 },
 "nbformat": 4,
 "nbformat_minor": 5
}
