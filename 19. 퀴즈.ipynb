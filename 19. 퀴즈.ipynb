{
 "cells": [
  {
   "cell_type": "markdown",
   "id": "2dc3239e",
   "metadata": {},
   "source": [
    "# 19. 퀴즈"
   ]
  },
  {
   "cell_type": "markdown",
   "id": "3ada317b",
   "metadata": {},
   "source": [
    "## OpenCV 를 이용하여 가로영상을 세로로 회전 프로그램"
   ]
  },
  {
   "cell_type": "markdown",
   "id": "6d47613c",
   "metadata": {},
   "source": [
    "### 조건\n",
    "1. 회전 : 시계반대방향 90도\n",
    "1. 재생속도(FPS): 원본 x 4배\n",
    "1. 출력파일명: city_output.avi(코덱: DIVX)\n",
    "\n",
    "- 원본 파일명 : city.mp4"
   ]
  },
  {
   "cell_type": "code",
   "execution_count": 2,
   "id": "75b70ce3",
   "metadata": {},
   "outputs": [],
   "source": [
    "import cv2\n",
    "cap=cv2.VideoCapture('city.mp4')\n",
    "fourcc= cv2.VideoWriter_fourcc(*'DIVX')\n",
    "width = round(cap.get(cv2.CAP_PROP_FRAME_WIDTH))\n",
    "height = round(cap.get(cv2.CAP_PROP_FRAME_HEIGHT))\n",
    "fps = cap.get(cv2.CAP_PROP_FPS)\n",
    "\n",
    "out =cv2.VideoWriter('city_output.avi', fourcc, fps*4, (height,width)) # 가로세로 바꿈\n",
    "\n",
    "while cap.isOpened():\n",
    "    ret, frame = cap.read()\n",
    "    if not ret:\n",
    "        break\n",
    "        \n",
    "    rotate_frame = cv2.rotate(frame,cv2.ROTATE_90_COUNTERCLOCKWISE)\n",
    "    out.write(rotate_frame)\n",
    "    cv2.imshow('video', frame)\n",
    "    \n",
    "    if cv2.waitKey(1) == ord('q'):\n",
    "        break\n",
    "\n",
    "out.release()\n",
    "cap.release()\n",
    "cv2.destroyAllWindows()\n",
    "        \n",
    "\n"
   ]
  }
 ],
 "metadata": {
  "kernelspec": {
   "display_name": "Python 3 (ipykernel)",
   "language": "python",
   "name": "python3"
  },
  "language_info": {
   "codemirror_mode": {
    "name": "ipython",
    "version": 3
   },
   "file_extension": ".py",
   "mimetype": "text/x-python",
   "name": "python",
   "nbconvert_exporter": "python",
   "pygments_lexer": "ipython3",
   "version": "3.9.7"
  }
 },
 "nbformat": 4,
 "nbformat_minor": 5
}
