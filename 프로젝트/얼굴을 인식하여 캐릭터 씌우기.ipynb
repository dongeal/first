{
 "cells": [
  {
   "cell_type": "markdown",
   "id": "f5bbde2a",
   "metadata": {},
   "source": [
    "# 프로젝트 : 얼굴을 인식하여 캐릭터 씌우기"
   ]
  },
  {
   "cell_type": "markdown",
   "id": "1f5b3c56",
   "metadata": {},
   "source": [
    "## Face Detection vs Face Recognition"
   ]
  },
  {
   "cell_type": "markdown",
   "id": "e935c9ed",
   "metadata": {},
   "source": [
    "### 패키지 설치\n",
    "> pip install mediapipe"
   ]
  },
  {
   "cell_type": "code",
   "execution_count": 26,
   "id": "f7363494",
   "metadata": {},
   "outputs": [],
   "source": [
    "import cv2\n",
    "import mediapipe as mp\n",
    "\n",
    "\n",
    "def overlay(image, x, y, w, h, overlay_image): # 대상 이미지 (3채널), x, y 좌표, width, height, 덮어씌울 이미지 (4채널)\n",
    "    alpha = overlay_image[:, :, 3] # BGRA\n",
    "    mask_image = alpha / 255 # 0 ~ 255 -> 255 로 나누면 0 ~ 1 사이의 값 (1: 불투명, 0: 완전)\n",
    "    # (255, 255)  ->  (1, 1)\n",
    "    # (255, 0)        (1, 0)\n",
    "    \n",
    "    # 1 - mask_image ?\n",
    "    # (0, 0)\n",
    "    # (0, 1)\n",
    "    \n",
    "    for c in range(0, 3): # channel BGR\n",
    "        image[y-h:y+h, x-w:x+w, c] = (overlay_image[:, :, c] * mask_image) + (image[y-h:y+h, x-w:x+w, c] * (1 - mask_image))\n",
    "        \n",
    "# 얼굴착고, 찾은얼굴에 표시해주기위한 변수 정의\n",
    "mp_face_detection = mp.solutions.face_detection # 얼굴검출 모듈\n",
    "mp_drawing = mp.solutions.drawing_utils # 얼굴특징 그리는 모듈\n",
    "\n",
    "# 동영상 파일 열기\n",
    "cap = cv2.VideoCapture('face_video.mp4')\n",
    "\n",
    "#이미지 불러오기\n",
    "image_right_eye=cv2.imread('right_eye.png', cv2.IMREAD_UNCHANGED) #100x100\n",
    "image_left_eye=cv2.imread('left_eye.png', cv2.IMREAD_UNCHANGED)  #100x100\n",
    "image_nose=cv2.imread('nose.png', cv2.IMREAD_UNCHANGED)         #300x100 (가로세로)\n",
    "\n",
    "with mp_face_detection.FaceDetection(model_selection=0, \n",
    "                min_detection_confidence=0.7) as face_detection:\n",
    "    # model_selection 0 :근거리 1: 원거리,  confidence : 정확도\n",
    "    while cap.isOpened():\n",
    "        success, image = cap.read()\n",
    "        if not success:\n",
    "            break\n",
    "\n",
    "        # To improve performance, optionally mark the image as not writeable to\n",
    "        # pass by reference.\n",
    "        image.flags.writeable = False\n",
    "        image = cv2.cvtColor(image, cv2.COLOR_BGR2RGB)\n",
    "        results = face_detection.process(image)\n",
    "\n",
    "        # Draw the face detection annotations on the image.\n",
    "        image.flags.writeable = True\n",
    "        image = cv2.cvtColor(image, cv2.COLOR_RGB2BGR)\n",
    "        \n",
    "        if results.detections:\n",
    "            # 6개 특징: 오른눈, 왼눈,코끝,입중심,오른귀, 왼귀\n",
    "            for detection in results.detections:\n",
    "                # mp_drawing.draw_detection(image, detection)\n",
    "                # print(detection)\n",
    "                \n",
    "                #특정 위치 가져오기 (이미지크기 1일때의 비율을 실제 좌표로 바꾸기)\n",
    "                keypoints=detection.location_data.relative_keypoints\n",
    "                right_eye=keypoints[0] # 오른눈\n",
    "                left_eye= keypoints[1] # 왼 눈\n",
    "                nose_tip= keypoints[2] # 코\n",
    "                \n",
    "                \n",
    "                \n",
    "                h, w, _ = image.shape  # height,width,channel 이미지크기 세로가로\n",
    "                right_eye = (int(right_eye.x*w)-20, int(right_eye.y*h)-100)\n",
    "                left_eye = (int(left_eye.x*w)+20, int(left_eye.y*h)-100)\n",
    "                nose_tip= (int(nose_tip.x*w), int(nose_tip.y*h))\n",
    "                \n",
    "                # 양눈에 동그라미 그리기\n",
    "                # cv2.circle(image, right_eye, 50, (255, 0, 0),10, cv2.LINE_AA)\n",
    "                # cv2.circle(image, left_eye, 50, (0, 255, 0),10, cv2.LINE_AA)\n",
    "                # 코에 동그라미 그리기\n",
    "                # cv2.circle(image, nose_tip, 75, (0, 255, 225),10, cv2.LINE_AA)\n",
    "                \n",
    "                # 각특징에 이미지 그리기\n",
    "                # image[right_eye[1]-50:right_eye[1]+50, right_eye[0]-50:right_eye[0]+50]=image_right_eye\n",
    "                # image[left_eye[1]-50:left_eye[1]+50, left_eye[0]-50:left_eye[0]+50]=image_left_eye\n",
    "                # image[nose_tip[1]-50:nose_tip[1]+50, nose_tip[0]-150:nose_tip[0]+150]=image_nose\n",
    "                \n",
    "                # image,x,y,w,h,overlay_image\n",
    "                overlay(image,*right_eye, 50, 50, image_right_eye)\n",
    "                overlay(image,*left_eye, 50, 50, image_left_eye)\n",
    "                overlay(image,*nose_tip, 150, 50, image_nose)\n",
    "                \n",
    "                \n",
    "                \n",
    "                \n",
    "        # Flip the image horizontally for a selfie-view display.\n",
    "        cv2.imshow('MediaPipe Face Detection', cv2.resize(image, None, fx=0.5, fy=0.5))\n",
    "        if cv2.waitKey(1) ==  ord('q'):\n",
    "            break\n",
    "cap.release()\n",
    "cv2.destroyAllWindows()"
   ]
  },
  {
   "cell_type": "code",
   "execution_count": null,
   "id": "e571c4d6",
   "metadata": {},
   "outputs": [],
   "source": []
  },
  {
   "cell_type": "code",
   "execution_count": null,
   "id": "2af964a0",
   "metadata": {},
   "outputs": [],
   "source": []
  },
  {
   "cell_type": "code",
   "execution_count": null,
   "id": "eb030309",
   "metadata": {},
   "outputs": [],
   "source": []
  }
 ],
 "metadata": {
  "kernelspec": {
   "display_name": "Python 3 (ipykernel)",
   "language": "python",
   "name": "python3"
  },
  "language_info": {
   "codemirror_mode": {
    "name": "ipython",
    "version": 3
   },
   "file_extension": ".py",
   "mimetype": "text/x-python",
   "name": "python",
   "nbconvert_exporter": "python",
   "pygments_lexer": "ipython3",
   "version": "3.9.7"
  }
 },
 "nbformat": 4,
 "nbformat_minor": 5
}
